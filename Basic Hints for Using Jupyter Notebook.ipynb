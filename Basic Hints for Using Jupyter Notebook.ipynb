{
 "cells": [
  {
   "cell_type": "markdown",
   "metadata": {},
   "source": [
    "```\n",
    "Adapted from Sarah M Brown notebook_hints.md\n",
    "https://github.com/brownsarahm/python-novice-gapminder-files/blob/master/code/notebook_hints.md\n",
    "```"
   ]
  },
  {
   "cell_type": "markdown",
   "metadata": {},
   "source": [
    "## Basic Shortcuts"
   ]
  },
  {
   "cell_type": "markdown",
   "metadata": {},
   "source": [
    "`Esc` will take you into command mode, where you can navigate notebook cells with arrow keys.\n",
    "\n",
    "### Command Mode:\n",
    "- `A` insert a new cell above current cell\n",
    "- `B` insert a new cell below current cell\n",
    "- `M` change current cell to Markdown\n",
    "- `Y` change current cell to Code\n",
    "- `D` + `D` delete current cell"
   ]
  },
  {
   "cell_type": "code",
   "execution_count": null,
   "metadata": {},
   "outputs": [],
   "source": [
    "# Example of a code cell - Python comment lines begin with `#`\n",
    "print(\"Hello World\")"
   ]
  },
  {
   "cell_type": "markdown",
   "metadata": {},
   "source": [
    "`Enter` will take you from command mode to edit mode.\n",
    "\n",
    "### Edit Mode:\n",
    "- `Shift-Enter`: run cell, select next cell\n",
    "- `Ctrl-Enter`: run cell\n",
    "- `Ctrl-Shift-Minus`: split cell at Cursor(s)\n",
    "\n",
    "*write this cell, then try splitting it here*\n",
    "\n",
    "- Help: enter command mode, then press `H`"
   ]
  }
 ],
 "metadata": {
  "kernelspec": {
   "display_name": "Python 3",
   "language": "python",
   "name": "python3"
  },
  "language_info": {
   "codemirror_mode": {
    "name": "ipython",
    "version": 3
   },
   "file_extension": ".py",
   "mimetype": "text/x-python",
   "name": "python",
   "nbconvert_exporter": "python",
   "pygments_lexer": "ipython3",
   "version": "3.7.9"
  }
 },
 "nbformat": 4,
 "nbformat_minor": 4
}
